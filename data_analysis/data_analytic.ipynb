{
 "cells": [
  {
   "cell_type": "code",
   "execution_count": 37,
   "metadata": {},
   "outputs": [],
   "source": [
    "import pandas as pd\n",
    "from collections import Counter,defaultdict"
   ]
  },
  {
   "cell_type": "code",
   "execution_count": 12,
   "metadata": {},
   "outputs": [],
   "source": [
    "df = pd.read_csv(\"../data/TV & Audio products Data Set - labeled data.csv\", sep=\"\\t\")\n",
    "\n",
    "name_list = df[\"<Name>\"].tolist()\n",
    "label_list = df[\"Category Relation Classification Reference\"].tolist()\n",
    "long_description_list = df[\"Long Description\"].tolist()\n",
    "long_description_mm_list = df[\"Long Description MM\"].tolist()\n",
    "marketing_text_mm_list = df[\"Marketing Text MM\"].tolist()\n",
    "short_description_list = df[\"Short Description\"].tolist()\n",
    "short_description_mm_list = df[\"Short Description MM\"].tolist()"
   ]
  },
  {
   "cell_type": "code",
   "execution_count": 13,
   "metadata": {},
   "outputs": [],
   "source": [
    "name_counter = Counter(name_list)\n",
    "long_description_counter = Counter(long_description_list)\n",
    "label_counter = Counter(label_list)\n",
    "long_description_mm_counter = Counter(long_description_mm_list)\n",
    "short_description_counter = Counter(short_description_list)\n",
    "#empty long des 574\n",
    "#long_description_mm_counter 616"
   ]
  },
  {
   "cell_type": "code",
   "execution_count": 34,
   "metadata": {
    "scrolled": false
   },
   "outputs": [],
   "source": [
    "#short_description_counter"
   ]
  },
  {
   "cell_type": "code",
   "execution_count": null,
   "metadata": {},
   "outputs": [],
   "source": [
    "# The short descriptions are not unique. "
   ]
  },
  {
   "cell_type": "code",
   "execution_count": 53,
   "metadata": {},
   "outputs": [
    {
     "name": "stdout",
     "output_type": "stream",
     "text": [
      "Tragesbares UKW-Radio it CD/MP3 Player und USB-Anschluss [[4, '310;307;1166;1165'], [4, '307;1165'], [4, '307;1165'], [4, '307;1165']]\n",
      "Tragbares Radio mit CD/MP3 Player und USB Anschluss [[2, '309;310;1166;1165'], [2, '309;310;1166;1165']]\n",
      "Boombox mit Kassettenlaufwerk [[2, '307;1165'], [2, '307;1165']]\n",
      "Stereo Boombox mit CD, MP3, USB, AUX-IN [[2, '310;1166;1165'], [2, '310;1166;1165']]\n",
      "SR 4365 CD Stereoradio mit CD [[2, '310;307;1166;1165'], [2, '310;307;1166;1165']]\n",
      "CD-MP3 Boombox mit UKW/UKW-ST Radio und USB [[2, '310;307;1166;1165'], [2, '310;307;1166;1165']]\n",
      "Digital Media Receiver mit Front USB und AUX [[2, '331;1172'], [2, '1172;331']]\n",
      "USB/CD-Receiver mit Front-AUX-Eingang [[5, '331;1172'], [5, '331;1172'], [5, '1172;331'], [5, '1172;331'], [5, '1172;331']]\n",
      "Einstiegs-Autoradio mit CD-Player, USB und Aux-Eingang. [[2, '331;1172'], [2, '331;1172']]\n",
      "Autoradio mit RDS, USB und Aux-Eingang, unterstützt FLAC-Dateien (1-DIN) [[2, '331;1172'], [2, '331;1172']]\n",
      "CD-Tuner mit RDS, USB und Aux-Eingang. Unterstützt FLAC-Dateien (1-DIN) [[2, '331;1172'], [2, '331;1172']]\n",
      "Der perfekte Partner für Datenquellen jeder Art – Kenwoods neuer CD-Receiver KDC-100U spielt Musik von CD, Radio, USB & Android-Smartphones. [[2, '1172;331'], [2, '1172;331']]\n",
      "USB/CD-Receiver mit Front AUX und Bluetooth [[2, '1172;331'], [2, '1172;331']]\n",
      "DVD-/CD-/USB-Multimedia-Receiver mit Bluetooth [[2, '1172;331'], [2, '1172;331']]\n",
      "Für jeden SONOS Player den passenden Standfuß.\n",
      "Unsere Standfüße heben Euren Player auf die perfekte Hörhöhe und entkoppeln ihn dazu vom Boden. Dadurch werden Vibrationen minimiert und der Klang verbessert. [[2, '1194;269'], [2, '1194;269']]\n",
      "Standlautsprecher, 3-Wege Bassreflex mit Doppelbass [[2, '262;3340'], [2, '262;3340']]\n",
      "aktiver Desktoplautsprecher\n",
      "1 Paar [[2, '259;52;373'], [2, '259;52;373']]\n",
      "Classic LP ist die einfache Art, Schallplatten zu genießen. [[2, '319;1149;294'], [2, '257;1149;294']]\n",
      "7.2-Kanal AVENTAGE Netzwerk AV-Receiver mit eingebautem Wi-Fi  [[2, '252;1146;1113;237;284'], [2, '252;1146;1113;237;284']]\n",
      "CD Mini Hi-Fi Komponentensystem, 70 W/Kanal, 2 Digitaleingänge, 3 Analog-Audioeingänge/1 Ausgang, USB-Anschluss, UKW RDS, Subwoofer-Preout, Kopfhöreranschluss, Phono [[2, '252;1155'], [2, '252;1155']]\n",
      "Micro Anlage, 120 Watt, DAB+ Radio [[2, '788;308;1155;1167'], [2, '788;308;1155;1167']]\n",
      "Netzwerkfähiges Micro HiFi System mit WiFi, Bluetooth und High-Res Audio streaming [[2, '1155;226'], [2, '1155;226']]\n",
      "Tragbarer Lautsprecher mit High-Resolution Audio, DSEE HX Upscaling, S-Master HX, drahtlose Vernetzung [[2, '784;8021;8022;933;8200'], [2, '784;8021;8022;933;8200']]\n",
      "LG Music Flow Stereo Lautsprecher [[3, '298;8200'], [3, '298;8200'], [3, '298;8200']]\n",
      "Erstellen Sie ein individuelles Design mit auswechselbaren Kappen. [[2, '314;1140'], [2, '314;1136']]\n",
      "Ultraleichter On-Ear-Kopfhörer mit eindrucksvollem, unverfälschtem Stereoklang. Eine optimierte Version des Form 2, der in der Dauerausstellung des MoMA in New York präsentiert wird. [[2, '314;1136;1142;2516;1144'], [2, '314;1136;1142;1144;2516']]\n",
      "Dieser High-Perfomance-Kopfhörer bietet dir ein völlig neues Klangerlebnis. [[2, '314;1144;1136;1137'], [2, '314;1144;1136;1137']]\n",
      "Perfekter Sound kombiniert mit nahezu unzerstörbaren Kopfbügel ist der perfekte Begleiter in jeder Lebenslage. [[4, '314;1136;1137;1142'], [4, '314;1136;1137;1142'], [4, '314;1136;1137;1142'], [4, '314;1136;1137;1142']]\n",
      "Bass-Gewaltiger In-Ear Kopfhörer aus der Superior Serie mit Bass Exciter und Headset [[2, '315;1139'], [2, '315;1139']]\n",
      "Der In-Ear-Kopfhörer E300 bietet ein vollendetes Klangerlebnis\n",
      "mit kristallklaren Stimmen und ausgewogenen Bässen. [[2, '315;1139'], [2, '315;1139']]\n",
      "Der In-Ear-Kopfhörer E200 bietet ein vollendetes Klangerlebnis mit kristallklaren Stimmen und ausgewogenen Bässen. [[2, '315;1139'], [2, '315;1139']]\n",
      "Ladeschale für Designverliebte. Für diverse Smartphones (max. 65 x 20mm) verwendbar unter Verwendung des eigenen Ladekabels. Kunstobjekt, kein Elektroprodukt. [[7, '296'], [7, '296;3333'], [7, '296;3333'], [7, '296;3333'], [7, '296;3333'], [7, '296;3333'], [7, '296']]\n",
      "Interface [[2, '41;316'], [2, '41;316']]\n",
      "Ultrakompaktes Controller-Keyboard zum Anschluss an iOS®-Geräte, Android®-Tablets/Smartphones, Microsoft Surface Pro®, Mac und PC [[3, '325;41'], [3, '325;41'], [3, '325;41']]\n",
      "2018-08-08 DQ Testartikel [[3, '15;238'], [3, '15;238'], [3, '15;238']]\n",
      "Stereo Boombox mit CD/MP3, USB, SD/MMC-Slot [[3, '307;1165'], [3, '1165;307'], [3, '1165;307']]\n",
      "Tragbares UKW-Radio mit CD/MP3-Player und USB-Anschluss [[2, '1165;307'], [2, '1165;307']]\n",
      "CD 46 PINK [[3, '1165;307;2586'], [3, '1165;307'], [3, '1165;307;2586']]\n",
      "Radiorecorder [[2, '1165;307'], [2, '1165;307']]\n",
      "Boombox mit Toploading CD-Player und USB-Anschluss [[7, '1165;307'], [7, '1165;307'], [7, '1165;307'], [7, '307;1165'], [7, '307;1165'], [7, '307;1165'], [7, '307;1165']]\n",
      "Freuen Sie sich über den hohen Bedienkomfort. Mit der kompakten und tragbaren Philips CD-Soundmachine können Sie Ihre Lieblingsmusik mit einfachen Bedienfunktionen  genießen. [[2, '1165;307'], [2, '307;1165']]\n",
      "RCD 1445 USB GRÜN/SILBER [[3, '1165;307'], [3, '307;1165'], [3, '307;1165']]\n",
      "Boombox mit Toploading CD-Player und USB-Anschluss für MP3-Wiedergabe [[4, '307;1165'], [4, '307;1165'], [4, '307;1165'], [4, '307;1165']]\n",
      "Radiokassettenrecorder mit externem Mikrofon [[2, '307;310;1166;1165;303'], [2, '307;310;1166;1165;303']]\n",
      "SL-D 930 WEISS [[2, '1165;788'], [2, '1165;788']]\n",
      "BoomBoombox mit Radio, CD-Player und Kassettenspieler [[4, '307;1165'], [4, '307;1165'], [4, '307;1165'], [4, '307;1165']]\n",
      "UKW Kofferradio mit Vertikal-CD-Spieler [[3, '307;1165'], [3, '307;1165'], [3, '307;1165']]\n",
      "CD-Radio mit angesagtem Union Jack-Motiv [[2, '310;307;1166;1165;1150;2586'], [2, '310;307;1166;1165;1150;2586']]\n",
      "Tragbares CD-Radio [[5, '310;307;1165'], [5, '310;307;1165'], [5, '310;307;1165'], [5, '1165;307'], [5, '310;307;1165']]\n",
      "Genießen Sie Ihre Musik überall [[2, '307;1165'], [2, '1165;307;1167;308']]\n",
      "CD-Boombox mit Aux-In [[2, '307;1165'], [2, '307;1165']]\n",
      "Digitalradio für DAB+, DAB und den UKW-Empfang [[2, '308;1167;307;1165'], [2, '308;307;1167;1165']]\n",
      "Tragbares PLL UKW-Radio mit Bluetooth, CD, USB, SD [[2, '307;1165'], [2, '307;1165']]\n",
      "CD-/Musik-Streaming-System, Bluetooth-Streaming, CD-Player, UKW/MW-Tuner, 5+5 Watt, Timer-Funktionen, Fernbedienung [[5, '784;788;303;305;1168;1165'], [5, '784;788;303;305;1168;1165'], [5, '784;788;303;305;1168;1165'], [5, '784;303;788;305;1168;1165'], [5, '784;788;303;305;1168;1165']]\n"
     ]
    }
   ],
   "source": [
    "# check if a short_description has always the same labels\n",
    "shor_des_label = defaultdict(list)\n",
    "for short_des,label in zip(short_description_list,label_list):\n",
    "    count = short_description_counter[short_des]\n",
    "    shor_des_label[short_des].append([count,label])\n",
    "for k,v in shor_des_label.items():\n",
    "\n",
    "    if len(v)>1:\n",
    "        \n",
    "        print(k,v)"
   ]
  },
  {
   "cell_type": "markdown",
   "metadata": {},
   "source": [
    "\n",
    "with this examples Tragesbares UKW-Radio it CD/MP3 Player und USB-Anschluss [[4, '310;307;1166;1165'], [4, '307;1165'], [4, '307;1165'], [4, '307;1165']]\n",
    "we can see that a given short_description can have diffrent label list. the other lists are subsets of the biggest list\n",
    "\n",
    "i have kind of counter this problem, when i create the data set, because i m using only labels contained in the label data set.\n",
    "nevertheless a better solution should be implemented."
   ]
  },
  {
   "cell_type": "code",
   "execution_count": 18,
   "metadata": {},
   "outputs": [
    {
     "name": "stdout",
     "output_type": "stream",
     "text": [
      "0\n"
     ]
    }
   ],
   "source": [
    "c = 0\n",
    "for l in short_description_list:\n",
    "    if type(l) ==float:\n",
    "        c+=1\n",
    "print(c)"
   ]
  },
  {
   "cell_type": "markdown",
   "metadata": {},
   "source": [
    "The block above shows us that the short_description are never empty."
   ]
  },
  {
   "cell_type": "code",
   "execution_count": 16,
   "metadata": {},
   "outputs": [],
   "source": [
    "# Count average label per product"
   ]
  },
  {
   "cell_type": "code",
   "execution_count": 54,
   "metadata": {},
   "outputs": [],
   "source": [
    "product_label = defaultdict(int)\n",
    "for name,labls in zip(name_list,label_list):\n",
    "    if type(labls)!=float:\n",
    "        if type(labls)==str:\n",
    "            labls = labls.split(\";\")\n",
    "        product_label[name] = len(labls)"
   ]
  },
  {
   "cell_type": "code",
   "execution_count": 61,
   "metadata": {},
   "outputs": [
    {
     "name": "stdout",
     "output_type": "stream",
     "text": [
      "average_product_label 2.6176176176176176\n"
     ]
    }
   ],
   "source": [
    "total_labels =0\n",
    "for k,v in product_label.items():\n",
    "    total_labels+=v\n",
    " \n",
    "average_product_label = total_labels/len(product_label)\n",
    "print(\"average number of labels per product\",average_product_label)"
   ]
  },
  {
   "cell_type": "code",
   "execution_count": 17,
   "metadata": {},
   "outputs": [],
   "source": [
    "# Count number of different labels"
   ]
  },
  {
   "cell_type": "code",
   "execution_count": 8,
   "metadata": {},
   "outputs": [
    {
     "data": {
      "text/plain": [
       "'205;1072'"
      ]
     },
     "execution_count": 8,
     "metadata": {},
     "output_type": "execute_result"
    }
   ],
   "source": [
    "label_list[0]"
   ]
  },
  {
   "cell_type": "code",
   "execution_count": 32,
   "metadata": {
    "scrolled": true
   },
   "outputs": [],
   "source": [
    "label_all = []\n",
    "for i,labls in enumerate(label_list):\n",
    "    if type(labls)!=float:\n",
    "        if type(labls)==str:\n",
    "            labls = labls.split(\";\")\n",
    "        for l in labls:\n",
    "            label_all.append(l)\n",
    "cla = Counter(label_all)"
   ]
  },
  {
   "cell_type": "code",
   "execution_count": 33,
   "metadata": {},
   "outputs": [
    {
     "data": {
      "image/png": "[encoded data removed]",
      "text/plain": [
       "<Figure size 432x288 with 1 Axes>"
      ]
     },
     "metadata": {
      "needs_background": "light"
     },
     "output_type": "display_data"
    }
   ],
   "source": [
    "import numpy as np\n",
    "import matplotlib.pyplot as plt\n",
    "\n",
    "\n",
    "labels, values = zip(*cla.items())\n",
    "\n",
    "indexes = np.arange(len(labels))\n",
    "width = 1\n",
    "\n",
    "plt.bar(indexes, values, width)\n",
    "plt.xticks(indexes + width * 0.5, labels)\n",
    "plt.show()"
   ]
  },
  {
   "cell_type": "code",
   "execution_count": null,
   "metadata": {},
   "outputs": [],
   "source": [
    "# Just few labels appears more than 50 times"
   ]
  },
  {
   "cell_type": "code",
   "execution_count": 10,
   "metadata": {},
   "outputs": [],
   "source": [
    "# some label are list other are just string !"
   ]
  },
  {
   "cell_type": "code",
   "execution_count": null,
   "metadata": {},
   "outputs": [],
   "source": []
  }
 ],
 "metadata": {
  "kernelspec": {
   "display_name": "Python 3",
   "language": "python",
   "name": "python3"
  },
  "language_info": {
   "codemirror_mode": {
    "name": "ipython",
    "version": 3
   },
   "file_extension": ".py",
   "mimetype": "text/x-python",
   "name": "python",
   "nbconvert_exporter": "python",
   "pygments_lexer": "ipython3",
   "version": "3.8.5"
  }
 },
 "nbformat": 4,
 "nbformat_minor": 4
}
